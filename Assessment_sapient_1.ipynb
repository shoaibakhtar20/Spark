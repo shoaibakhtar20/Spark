{
  "nbformat": 4,
  "nbformat_minor": 0,
  "metadata": {
    "colab": {
      "name": "UdemyHandson.py",
      "provenance": [],
      "mount_file_id": "1d7av0pm5P6vsFyqm7sZWt_PtRRZ_iDMv",
      "authorship_tag": "ABX9TyOG6JU4EInC3PmZVs+uK4qQ",
      "include_colab_link": true
    },
    "kernelspec": {
      "name": "python3",
      "display_name": "Python 3"
    }
  },
  "cells": [
    {
      "cell_type": "markdown",
      "metadata": {
        "id": "view-in-github",
        "colab_type": "text"
      },
      "source": [
        "<a href=\"https://colab.research.google.com/github/shoaibakhtar20/Spark/blob/master/Assessment_sapient_1.ipynb\" target=\"_parent\"><img src=\"https://colab.research.google.com/assets/colab-badge.svg\" alt=\"Open In Colab\"/></a>"
      ]
    },
    {
      "cell_type": "code",
      "metadata": {
        "id": "Ewxt3N1vLq7D"
      },
      "source": [
        "!apt-get update\n",
        "!apt-get install openjdk-8-jdk-headless -qq > /dev/null\n",
        "!wget -q http://archive.apache.org/dist/spark/spark-2.3.1/spark-2.3.1-bin-hadoop2.7.tgz\n",
        "!tar xf spark-2.3.1-bin-hadoop2.7.tgz\n",
        "\n",
        "\n",
        "!pip install -q findspark"
      ],
      "execution_count": null,
      "outputs": []
    },
    {
      "cell_type": "code",
      "metadata": {
        "id": "xlCNMa6xMs5I"
      },
      "source": [
        "import os\n",
        "os.environ[\"JAVA_HOME\"] = \"/usr/lib/jvm/java-8-openjdk-amd64\"\n",
        "os.environ[\"SPARK_HOME\"] = \"/content/spark-2.3.1-bin-hadoop2.7\"\n",
        "import findspark\n",
        "findspark.init()"
      ],
      "execution_count": 3,
      "outputs": []
    },
    {
      "cell_type": "code",
      "metadata": {
        "id": "biILqiceN3Xe"
      },
      "source": [
        "from pyspark.sql import SparkSession"
      ],
      "execution_count": 5,
      "outputs": []
    },
    {
      "cell_type": "code",
      "metadata": {
        "id": "ke_zHd92N7DK"
      },
      "source": [
        "spark = SparkSession.builder.appName(\"SapientAssessment\").config(\"spark.some.config.option\", \"some-value\").getOrCreate()"
      ],
      "execution_count": 6,
      "outputs": []
    },
    {
      "cell_type": "code",
      "metadata": {
        "id": "gScoF8gdnC9g",
        "outputId": "2f0ba7fd-5e23-4c9d-e15f-bba1ff6de118",
        "colab": {
          "base_uri": "https://localhost:8080/"
        }
      },
      "source": [
        "tabledata = spark.sparkContext.parallelize([('Rajesh', 21, 'London'),('Suresh', 28, 'California'),('Sam', 26, 'Delhi'),('Rajesh', 21, 'Gurgaon'),('Manish', 29, 'Bangaluru')])\n",
        "tabledata_dict = tabledata.map(lambda x : (x[0], x[1]))\n",
        "tabledata_dict_distinct = tabledata_dict.distinct()\n",
        "tabledata_dict_distinct.collect()"
      ],
      "execution_count": 32,
      "outputs": [
        {
          "output_type": "execute_result",
          "data": {
            "text/plain": [
              "[('Rajesh', 21), ('Suresh', 28), ('Sam', 26), ('Manish', 29)]"
            ]
          },
          "metadata": {
            "tags": []
          },
          "execution_count": 32
        }
      ]
    },
    {
      "cell_type": "code",
      "metadata": {
        "id": "bqi0pkaTPEk_"
      },
      "source": [
        ""
      ],
      "execution_count": null,
      "outputs": []
    }
  ]
}