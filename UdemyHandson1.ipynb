{
  "nbformat": 4,
  "nbformat_minor": 0,
  "metadata": {
    "colab": {
      "name": "UdemyHandson.py",
      "provenance": [],
      "mount_file_id": "1d7av0pm5P6vsFyqm7sZWt_PtRRZ_iDMv",
      "authorship_tag": "ABX9TyPNgutpMGSev/zRQUQVNq3s",
      "include_colab_link": true
    },
    "kernelspec": {
      "name": "python3",
      "display_name": "Python 3"
    }
  },
  "cells": [
    {
      "cell_type": "markdown",
      "metadata": {
        "id": "view-in-github",
        "colab_type": "text"
      },
      "source": [
        "<a href=\"https://colab.research.google.com/github/shoaibakhtar20/Spark/blob/master/UdemyHandson1.ipynb\" target=\"_parent\"><img src=\"https://colab.research.google.com/assets/colab-badge.svg\" alt=\"Open In Colab\"/></a>"
      ]
    },
    {
      "cell_type": "code",
      "metadata": {
        "id": "Ewxt3N1vLq7D"
      },
      "source": [
        "!apt-get update\n",
        "!apt-get install openjdk-8-jdk-headless -qq > /dev/null\n",
        "!wget -q http://archive.apache.org/dist/spark/spark-2.3.1/spark-2.3.1-bin-hadoop2.7.tgz\n",
        "!tar xf spark-2.3.1-bin-hadoop2.7.tgz\n",
        "\n",
        "\n",
        "!pip install -q findspark"
      ],
      "execution_count": null,
      "outputs": []
    },
    {
      "cell_type": "code",
      "metadata": {
        "id": "xlCNMa6xMs5I"
      },
      "source": [
        "import os\n",
        "os.environ[\"JAVA_HOME\"] = \"/usr/lib/jvm/java-8-openjdk-amd64\"\n",
        "os.environ[\"SPARK_HOME\"] = \"/content/spark-2.3.1-bin-hadoop2.7\"\n",
        "import findspark\n",
        "findspark.init()"
      ],
      "execution_count": 5,
      "outputs": []
    },
    {
      "cell_type": "code",
      "metadata": {
        "id": "biILqiceN3Xe"
      },
      "source": [
        "from pyspark.sql import SparkSession"
      ],
      "execution_count": 6,
      "outputs": []
    },
    {
      "cell_type": "code",
      "metadata": {
        "id": "ke_zHd92N7DK"
      },
      "source": [
        "spark = SparkSession.builder.appName(\"Fraud Analysis using Spark SQL\").config(\"spark.some.config.option\", \"some-value\").getOrCreate()"
      ],
      "execution_count": 7,
      "outputs": []
    },
    {
      "cell_type": "code",
      "metadata": {
        "id": "hUzBm6OZOfik",
        "outputId": "4c92f058-d465-4af3-cd01-d994ac155ef6",
        "colab": {
          "base_uri": "https://localhost:8080/"
        }
      },
      "source": [
        "from pyspark.sql.types import StructType, StructField, IntegerType, LongType\n",
        "from pyspark.sql import functions as func\n",
        "Schema = StructType([StructField (\"UserID\", IntegerType(), True),StructField (\"MovieID\", IntegerType(), True),StructField (\"Rating\", IntegerType(), True),StructField (\"timestamp\", IntegerType(), True)])\n",
        "moviefile = spark.read.option(\"sep\", \"\\t\").schema(Schema).csv(\"/content/drive/My Drive/UdemyHandsOn/u.data\")\n",
        "\n",
        "moviefile.groupby(\"MovieID\").count().orderBy(func.desc(\"Count\")).show()"
      ],
      "execution_count": 14,
      "outputs": [
        {
          "output_type": "stream",
          "text": [
            "+-------+-----+\n",
            "|MovieID|count|\n",
            "+-------+-----+\n",
            "|     50|  583|\n",
            "|    258|  509|\n",
            "|    100|  508|\n",
            "|    181|  507|\n",
            "|    294|  485|\n",
            "|    286|  481|\n",
            "|    288|  478|\n",
            "|      1|  452|\n",
            "|    300|  431|\n",
            "|    121|  429|\n",
            "|    174|  420|\n",
            "|    127|  413|\n",
            "|     56|  394|\n",
            "|      7|  392|\n",
            "|     98|  390|\n",
            "|    237|  384|\n",
            "|    117|  378|\n",
            "|    172|  367|\n",
            "|    222|  365|\n",
            "|    204|  350|\n",
            "+-------+-----+\n",
            "only showing top 20 rows\n",
            "\n"
          ],
          "name": "stdout"
        }
      ]
    },
    {
      "cell_type": "code",
      "metadata": {
        "id": "gScoF8gdnC9g"
      },
      "source": [
        ""
      ],
      "execution_count": null,
      "outputs": []
    }
  ]
}