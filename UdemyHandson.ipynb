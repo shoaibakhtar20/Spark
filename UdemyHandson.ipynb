{
  "nbformat": 4,
  "nbformat_minor": 0,
  "metadata": {
    "colab": {
      "name": "UdemyHandson.py",
      "provenance": [],
      "mount_file_id": "1d7av0pm5P6vsFyqm7sZWt_PtRRZ_iDMv",
      "authorship_tag": "ABX9TyPxQm4LbgSGWBXcTMIZEn9Z",
      "include_colab_link": true
    },
    "kernelspec": {
      "name": "python3",
      "display_name": "Python 3"
    }
  },
  "cells": [
    {
      "cell_type": "markdown",
      "metadata": {
        "id": "view-in-github",
        "colab_type": "text"
      },
      "source": [
        "<a href=\"https://colab.research.google.com/github/shoaibakhtar20/Spark/blob/master/UdemyHandson.ipynb\" target=\"_parent\"><img src=\"https://colab.research.google.com/assets/colab-badge.svg\" alt=\"Open In Colab\"/></a>"
      ]
    },
    {
      "cell_type": "code",
      "metadata": {
        "id": "Ewxt3N1vLq7D"
      },
      "source": [
        "!apt-get update\n",
        "!apt-get install openjdk-8-jdk-headless -qq > /dev/null\n",
        "!wget -q http://archive.apache.org/dist/spark/spark-2.3.1/spark-2.3.1-bin-hadoop2.7.tgz\n",
        "!tar xf spark-2.3.1-bin-hadoop2.7.tgz\n",
        "\n",
        "\n",
        "!pip install -q findspark"
      ],
      "execution_count": null,
      "outputs": []
    },
    {
      "cell_type": "code",
      "metadata": {
        "id": "xlCNMa6xMs5I"
      },
      "source": [
        "import os\n",
        "os.environ[\"JAVA_HOME\"] = \"/usr/lib/jvm/java-8-openjdk-amd64\"\n",
        "os.environ[\"SPARK_HOME\"] = \"/content/spark-2.3.1-bin-hadoop2.7\"\n",
        "import findspark\n",
        "findspark.init()"
      ],
      "execution_count": 5,
      "outputs": []
    },
    {
      "cell_type": "code",
      "metadata": {
        "id": "lbG9M9gdM9gA"
      },
      "source": [
        "from google.colab import files\n",
        "files.upload()"
      ],
      "execution_count": null,
      "outputs": []
    },
    {
      "cell_type": "code",
      "metadata": {
        "id": "biILqiceN3Xe"
      },
      "source": [
        "from pyspark.sql import SparkSession"
      ],
      "execution_count": 6,
      "outputs": []
    },
    {
      "cell_type": "code",
      "metadata": {
        "id": "ke_zHd92N7DK"
      },
      "source": [
        "spark = SparkSession.builder.appName(\"Fraud Analysis using Spark SQL\").config(\"spark.some.config.option\", \"some-value\").getOrCreate()"
      ],
      "execution_count": 7,
      "outputs": []
    },
    {
      "cell_type": "code",
      "metadata": {
        "id": "hUzBm6OZOfik"
      },
      "source": [
        "from pyspark import SparkContext\n",
        "sc = SparkContext.getOrCreate()"
      ],
      "execution_count": 6,
      "outputs": []
    },
    {
      "cell_type": "code",
      "metadata": {
        "id": "PkepL5KMQPsg",
        "outputId": "37873507-d785-4c22-cf63-f02c82ec6258",
        "colab": {
          "base_uri": "https://localhost:8080/"
        }
      },
      "source": [
        "filename = spark.sparkContext.textFile(\"/content/drive/My Drive/UdemyHandsOn/u.data\")\n",
        "print(filename.first())"
      ],
      "execution_count": 9,
      "outputs": [
        {
          "output_type": "stream",
          "text": [
            "196\t242\t3\t881250949\n"
          ],
          "name": "stdout"
        }
      ]
    },
    {
      "cell_type": "code",
      "metadata": {
        "id": "3UsDqvQJQyo7",
        "outputId": "a7cba5cd-1f5f-4461-9c77-a1d3bc13d740",
        "colab": {
          "base_uri": "https://localhost:8080/"
        }
      },
      "source": [
        "import collections\n",
        "ratings = filename.map(lambda x: x.split()[2])\n",
        "result = ratings.countByValue()\n",
        "sortedResults = collections.OrderedDict(sorted(result.items()))\n",
        "for key, value in result.items():\n",
        "    print(\"%s %i\" % (key, value))"
      ],
      "execution_count": 10,
      "outputs": [
        {
          "output_type": "stream",
          "text": [
            "3 27145\n",
            "1 6110\n",
            "2 11370\n",
            "4 34174\n",
            "5 21201\n"
          ],
          "name": "stdout"
        }
      ]
    }
  ]
}