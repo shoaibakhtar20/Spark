{
  "nbformat": 4,
  "nbformat_minor": 0,
  "metadata": {
    "colab": {
      "name": "UdemyHandson.py",
      "provenance": [],
      "mount_file_id": "1d7av0pm5P6vsFyqm7sZWt_PtRRZ_iDMv",
      "authorship_tag": "ABX9TyPJRAMPi+h1O/UbRqzEX/uN",
      "include_colab_link": true
    },
    "kernelspec": {
      "name": "python3",
      "display_name": "Python 3"
    }
  },
  "cells": [
    {
      "cell_type": "markdown",
      "metadata": {
        "id": "view-in-github",
        "colab_type": "text"
      },
      "source": [
        "<a href=\"https://colab.research.google.com/github/shoaibakhtar20/Spark/blob/master/SapientAssessment_3.ipynb\" target=\"_parent\"><img src=\"https://colab.research.google.com/assets/colab-badge.svg\" alt=\"Open In Colab\"/></a>"
      ]
    },
    {
      "cell_type": "code",
      "metadata": {
        "id": "Ewxt3N1vLq7D"
      },
      "source": [
        "!apt-get update\n",
        "!apt-get install openjdk-8-jdk-headless -qq > /dev/null\n",
        "!wget -q http://archive.apache.org/dist/spark/spark-2.3.1/spark-2.3.1-bin-hadoop2.7.tgz\n",
        "!tar xf spark-2.3.1-bin-hadoop2.7.tgz\n",
        "\n",
        "\n",
        "!pip install -q findspark"
      ],
      "execution_count": null,
      "outputs": []
    },
    {
      "cell_type": "code",
      "metadata": {
        "id": "xlCNMa6xMs5I"
      },
      "source": [
        "import os\n",
        "os.environ[\"JAVA_HOME\"] = \"/usr/lib/jvm/java-8-openjdk-amd64\"\n",
        "os.environ[\"SPARK_HOME\"] = \"/content/spark-2.3.1-bin-hadoop2.7\"\n",
        "import findspark\n",
        "findspark.init()"
      ],
      "execution_count": 3,
      "outputs": []
    },
    {
      "cell_type": "code",
      "metadata": {
        "id": "biILqiceN3Xe"
      },
      "source": [
        "from pyspark.sql import SparkSession\n",
        "from pyspark.sql.window import Window\n",
        "from pyspark.sql.functions import row_number\n",
        "from pyspark.sql.functions import unix_timestamp\n",
        "import pyspark.sql.functions as func\n",
        "from pyspark.sql.functions import lit\n",
        "import dateutil.parser"
      ],
      "execution_count": 94,
      "outputs": []
    },
    {
      "cell_type": "code",
      "metadata": {
        "id": "ke_zHd92N7DK"
      },
      "source": [
        "spark = SparkSession.builder.appName(\"SapientAssessment\").config(\"spark.some.config.option\", \"some-value\").getOrCreate()"
      ],
      "execution_count": 95,
      "outputs": []
    },
    {
      "cell_type": "code",
      "metadata": {
        "id": "gScoF8gdnC9g",
        "outputId": "f86bf459-990c-46aa-98c9-e524b69d4992",
        "colab": {
          "base_uri": "https://localhost:8080/"
        }
      },
      "source": [
        "clickstream_raw = spark.read.csv(\"/content/drive/My Drive/UdemyHandsOn/Sapient_Clickstrea.csv\", header='true')\n",
        "clickstream_raw.show()"
      ],
      "execution_count": 96,
      "outputs": [
        {
          "output_type": "stream",
          "text": [
            "+--------------------+------+\n",
            "|           timestamp|userid|\n",
            "+--------------------+------+\n",
            "|2018-01-01T11:00:00Z|    u1|\n",
            "|2018-01-01T12:00:00Z|    u1|\n",
            "|2018-01-01T11:00:00Z|    u2|\n",
            "|2018-01-02T11:00:00Z|    u2|\n",
            "|2018-01-01T12:15:00Z|    u1|\n",
            "+--------------------+------+\n",
            "\n"
          ],
          "name": "stdout"
        }
      ]
    },
    {
      "cell_type": "code",
      "metadata": {
        "id": "bqi0pkaTPEk_"
      },
      "source": [
        "clickstream_raw.registerTempTable(\"clickstream_raw_table\")\n",
        "\n",
        "day_aggregation = sqlContext.sql(\"\"\"\n",
        "    SELECT DAY(timestamp) AS day, SUM(sessionid) AS sessionid_sum\n",
        "    FROM clickstream_raw_table\n",
        "    GROUP BY DAY(timestamp)\"\"\")\n",
        "\n",
        "month_aggregation = sqlContext.sql(\"\"\"\n",
        "    SELECT SUM(DAY(timestamp)) AS sum_day, userid\n",
        "    FROM clickstream_raw_table\n",
        "    GROUP BY DAY(timestamp), userid \"\"\")\n",
        "\n",
        "month_aggregation_2 = sqlContext.sql(\"\"\"\n",
        "    SELECT SUM(MONTH(timestamp)) AS sum_month, userid\n",
        "    FROM clickstream_raw_table\n",
        "    GROUP BY MONTH(timestamp), userid \"\"\")"
      ],
      "execution_count": null,
      "outputs": []
    },
    {
      "cell_type": "code",
      "metadata": {
        "id": "hHIcg7dAu57L"
      },
      "source": [
        ""
      ],
      "execution_count": null,
      "outputs": []
    },
    {
      "cell_type": "markdown",
      "metadata": {
        "id": "KAWhACtYgOQg"
      },
      "source": [
        ""
      ]
    }
  ]
}